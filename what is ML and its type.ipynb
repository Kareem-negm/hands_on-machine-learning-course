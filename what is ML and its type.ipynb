{
  "nbformat": 4,
  "nbformat_minor": 0,
  "metadata": {
    "colab": {
      "name": "Untitled13.ipynb",
      "provenance": []
    },
    "kernelspec": {
      "name": "python3",
      "display_name": "Python 3"
    }
  },
  "cells": [
    {
      "cell_type": "markdown",
      "metadata": {
        "id": "6OPZ4qjC4ZFA",
        "colab_type": "text"
      },
      "source": [
        "\n",
        "# What Is Machine Learning?\n",
        "Machine Learning is the science (and art) of programming computers so they can\n",
        "learn from data\n",
        "\n",
        "إن تعلّم الآلة هو علم (وفن) برمجة أجهزة الكمبيوتر بحيث يمكنهم ذلك. تعلم من البيانات.\n",
        "\n",
        "A computer program is said to learn from experience E with respect to some task T\n",
        "and some performance measure P, if its performance on T, as measured by P, improves\n",
        "with experience E.\n",
        "—Tom Mitchell, 1997\n"
      ]
    },
    {
      "cell_type": "markdown",
      "metadata": {
        "id": "qRBjVGlN4aCS",
        "colab_type": "text"
      },
      "source": [
        "# Why Use Machine Learning?\n",
        "* Problems for which existing solutions require a lot of hand-tuning or long lists of\n",
        "rules: one Machine Learning algorithm can often simplify code and perform bet‐\n",
        "ter.\n",
        "* Complex problems for which there is no good solution at all using a traditional\n",
        "approach: the best Machine Learning techniques can find a solution.\n",
        "* Fluctuating environments: a Machine Learning system can adapt to new data.\n",
        "* Getting insights about complex problems and large amounts of data.\n"
      ]
    },
    {
      "cell_type": "markdown",
      "metadata": {
        "id": "GvJJtos7J0ps",
        "colab_type": "text"
      },
      "source": [
        "#Types of Machine Learning Systems\n",
        "Supervised learning\n",
        "\n",
        "• k-Nearest Neighbors\n",
        "\n",
        "• Linear Regression\n",
        "\n",
        "• Logistic Regression\n",
        "\n",
        "• Support Vector Machines (SVMs)\n",
        "\n",
        "• Decision Trees and Random Forests\n",
        "\n",
        "• Neural networks\n",
        "\n",
        "Unsupervised learning\n",
        "\n",
        "Clustering\n",
        "\n",
        "— K-Means\n",
        "\n",
        "— DBSCAN\n",
        "\n",
        "— Hierarchical Cluster Analysis (HCA)\n",
        "\n",
        "Visualization and dimensionality\n",
        "\n",
        "reduction\n",
        "\n",
        "— Principal Component Analysis (PCA)\n",
        "\n",
        "— Kernel PCA\n",
        "\n",
        "\n",
        "— Locally-Linear Embedding (LLE)\n",
        "\n",
        "— t-distributed Stochastic Neighbor\n",
        " Embedding (t-SNE)\n",
        "\n",
        "• Association rule learning\n",
        "\n",
        "— Apriori\n",
        "\n",
        "— Eclat\n",
        "\n",
        "Semisupervised learning\n",
        "\n"
      ]
    },
    {
      "cell_type": "code",
      "metadata": {
        "id": "i1TUnOnJ4SSV",
        "colab_type": "code",
        "colab": {}
      },
      "source": [
        ""
      ],
      "execution_count": null,
      "outputs": []
    },
    {
      "cell_type": "markdown",
      "metadata": {
        "id": "07rRo6Bm4Xnc",
        "colab_type": "text"
      },
      "source": [
        ""
      ]
    }
  ]
}